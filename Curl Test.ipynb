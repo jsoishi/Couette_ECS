{
 "cells": [
  {
   "cell_type": "markdown",
   "id": "9ab43590",
   "metadata": {},
   "source": [
    "## Divergence Free Vector fields\n",
    "\n",
    "We want a random $\\nabla \\cdot \\mathbf{u}_0 = 0$. How do we do this?\n",
    "\n",
    "Simplest way: define another vector field $\\mathbf{A} = G$, where $G$ is a draw from a gaussian random variable (or whatever), appropriately damped at the no-slip boundaries.\n",
    "\n",
    "Then, we do \n",
    "\n",
    "$$\\mathbf{u}_0 = \\nabla \\times \\mathbf{A},$$\n",
    "\n",
    "because we know $\\nabla \\cdot \\nabla \\times \\mathbf{A} = $ for any vector field $\\mathbf{A}$."
   ]
  },
  {
   "cell_type": "code",
   "execution_count": 1,
   "id": "d8748594",
   "metadata": {},
   "outputs": [
    {
     "name": "stdout",
     "output_type": "stream",
     "text": [
      "2022-02-02 12:56:08,638 numexpr.utils 0/1 INFO :: NumExpr defaulting to 8 threads.\n"
     ]
    }
   ],
   "source": [
    "import dedalus.public as d3\n",
    "import matplotlib.pyplot as plt\n",
    "import numpy as np"
   ]
  },
  {
   "cell_type": "code",
   "execution_count": 2,
   "id": "8bd9baa3",
   "metadata": {},
   "outputs": [],
   "source": [
    "dtype = np.float64\n",
    "dealias = 1#3/2\n",
    "nx = 32\n",
    "ny = 32\n",
    "nz =32\n",
    "Lx = 5\n",
    "Ly = 5\n",
    "Lz = 2"
   ]
  },
  {
   "cell_type": "code",
   "execution_count": 3,
   "id": "577cf98f",
   "metadata": {},
   "outputs": [],
   "source": [
    "coords = d3.CartesianCoordinates('x', 'y', 'z')\n",
    "dist = d3.Distributor(coords, dtype=dtype)\n",
    "xbasis = d3.RealFourier(coords['x'], size=nx, bounds=(0, Lx), dealias = dealias)\n",
    "ybasis = d3.RealFourier(coords['y'], size=ny, bounds=(0, Ly), dealias = dealias)\n",
    "zbasis = d3.ChebyshevT(coords['z'], size=nz, bounds = (-1,1), dealias = dealias)\n",
    "x = xbasis.local_grid(1)\n",
    "y = xbasis.local_grid(1)\n",
    "z = zbasis.local_grid(dealias)"
   ]
  },
  {
   "cell_type": "code",
   "execution_count": 4,
   "id": "c00b7637",
   "metadata": {},
   "outputs": [],
   "source": [
    "# backgroupd shear flow\n",
    "U = dist.VectorField(coords, name='U', bases=(xbasis,ybasis,zbasis))\n",
    "U.set_scales(dealias)\n",
    "U['g'][0] = z\n"
   ]
  },
  {
   "cell_type": "code",
   "execution_count": 5,
   "id": "81d60973",
   "metadata": {},
   "outputs": [],
   "source": [
    "ba = (xbasis,ybasis,zbasis)\n",
    "u = dist.VectorField(coords, name='u', bases=ba)\n",
    "A = dist.VectorField(coords, name='A', bases=ba)"
   ]
  },
  {
   "cell_type": "code",
   "execution_count": 6,
   "id": "1e0739fd",
   "metadata": {},
   "outputs": [],
   "source": [
    "A.fill_random('g', seed=42, distribution='normal')\n",
    "A.low_pass_filter(scales=(0.5, 0.5, 0.5))\n",
    "A['g'] *= Lz**2*(z+1)/Lz * (1 - (z+1)/Lz) # Damp noise at walls\n",
    "\n",
    "up = d3.curl(A).evaluate()\n",
    "#up.set_scales(1, keep_data=True)\n",
    "#u.set_scales(dealias)\n",
    "u['g'] = 1e-3*up['g'] + U['g']"
   ]
  },
  {
   "cell_type": "code",
   "execution_count": 7,
   "id": "0f7bd37e",
   "metadata": {},
   "outputs": [],
   "source": [
    "divup = d3.div(up).evaluate()\n",
    "divu = d3.div(u).evaluate()\n",
    "divU = d3.div(U).evaluate()"
   ]
  },
  {
   "cell_type": "code",
   "execution_count": 8,
   "id": "6bbfba01",
   "metadata": {},
   "outputs": [],
   "source": [
    "u.set_scales(1, keep_data=True)"
   ]
  },
  {
   "cell_type": "code",
   "execution_count": 9,
   "id": "4a9724dd",
   "metadata": {},
   "outputs": [
    {
     "name": "stdout",
     "output_type": "stream",
     "text": [
      "min, max divu = (-2.514571118070715e-15, 2.6945226262007818e-15)\n",
      "min, max divup = (-1.5299914936919292e-12, 1.838568381345157e-12)\n",
      "min, max divU = (0.0, 0.0)\n"
     ]
    }
   ],
   "source": [
    "print(\"min, max divu = ({}, {})\".format(divu['g'].min(), divu['g'].max()))\n",
    "print(\"min, max divup = ({}, {})\".format(divup['g'].min(), divup['g'].max()))\n",
    "print(\"min, max divU = ({}, {})\".format(divU['g'].min(), divU['g'].max()))"
   ]
  },
  {
   "cell_type": "code",
   "execution_count": 11,
   "id": "08d81bb4",
   "metadata": {},
   "outputs": [
    {
     "data": {
      "text/plain": [
       "<matplotlib.image.AxesImage at 0x7fe08a831ca0>"
      ]
     },
     "execution_count": 11,
     "metadata": {},
     "output_type": "execute_result"
    },
    {
     "data": {
      "image/png": "[encoded data removed]",
      "text/plain": [
       "<Figure size 432x288 with 1 Axes>"
      ]
     },
     "metadata": {
      "image/png": {
       "height": 248,
       "width": 251
      },
      "needs_background": "light"
     },
     "output_type": "display_data"
    }
   ],
   "source": [
    "plt.imshow(u['g'][0,:,10,:].T)"
   ]
  },
  {
   "cell_type": "code",
   "execution_count": null,
   "id": "a798ea96",
   "metadata": {},
   "outputs": [],
   "source": []
  }
 ],
 "metadata": {
  "kernelspec": {
   "display_name": "Python 3 (ipykernel)",
   "language": "python",
   "name": "python3"
  },
  "language_info": {
   "codemirror_mode": {
    "name": "ipython",
    "version": 3
   },
   "file_extension": ".py",
   "mimetype": "text/x-python",
   "name": "python",
   "nbconvert_exporter": "python",
   "pygments_lexer": "ipython3",
   "version": "3.8.10"
  }
 },
 "nbformat": 4,
 "nbformat_minor": 5
}
