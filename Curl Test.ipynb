{
 "cells": [
  {
   "cell_type": "markdown",
   "id": "843be917",
   "metadata": {},
   "source": [
    "## Divergence Free Vector fields\n",
    "\n",
    "We want a random $\\nabla \\cdot \\mathbf{u}_0 = 0$. How do we do this?\n",
    "\n",
    "Simplest way: define another vector field $\\mathbf{A} = G$, where $G$ is a draw from a gaussian random variable (or whatever), appropriately damped at the no-slip boundaries.\n",
    "\n",
    "Then, we do \n",
    "\n",
    "$$\\mathbf{u}_0 = \\nabla \\times \\mathbf{A},$$\n",
    "\n",
    "because we know $\\nabla \\cdot \\nabla \\times \\mathbf{A} = $ for any vector field $\\mathbf{A}$."
   ]
  },
  {
   "cell_type": "code",
   "execution_count": 1,
   "id": "b36e3ea9",
   "metadata": {},
   "outputs": [
    {
     "name": "stdout",
     "output_type": "stream",
     "text": [
      "2022-02-03 11:33:20,673 numexpr.utils 0/1 INFO :: NumExpr defaulting to 8 threads.\n"
     ]
    }
   ],
   "source": [
    "import dedalus.public as d3\n",
    "import matplotlib.pyplot as plt\n",
    "import numpy as np"
   ]
  },
  {
   "cell_type": "code",
   "execution_count": 12,
   "id": "2d3a8b0d",
   "metadata": {},
   "outputs": [],
   "source": [
    "dtype = np.float64\n",
    "dealias = 3/2\n",
    "nx = 32\n",
    "ny = 32\n",
    "nz =32\n",
    "Lx = 5\n",
    "Ly = 5\n",
    "Lz = 2\n",
    "ampl = 1e-3"
   ]
  },
  {
   "cell_type": "code",
   "execution_count": 3,
   "id": "b9c6e569",
   "metadata": {},
   "outputs": [],
   "source": [
    "coords = d3.CartesianCoordinates('x', 'y', 'z')\n",
    "dist = d3.Distributor(coords, dtype=dtype)\n",
    "xbasis = d3.RealFourier(coords['x'], size=nx, bounds=(0, Lx), dealias = dealias)\n",
    "ybasis = d3.RealFourier(coords['y'], size=ny, bounds=(0, Ly), dealias = dealias)\n",
    "zbasis = d3.ChebyshevT(coords['z'], size=nz, bounds = (-1,1), dealias = dealias)\n",
    "x = xbasis.local_grid(1)\n",
    "y = xbasis.local_grid(1)\n",
    "z = zbasis.local_grid(dealias)"
   ]
  },
  {
   "cell_type": "code",
   "execution_count": 4,
   "id": "54d340a6",
   "metadata": {},
   "outputs": [],
   "source": [
    "# backgroupd shear flow\n",
    "U = dist.VectorField(coords, name='U', bases=(xbasis,ybasis,zbasis))\n",
    "U.require_scales(dealias)\n",
    "U['g'][0] = z"
   ]
  },
  {
   "cell_type": "code",
   "execution_count": 5,
   "id": "8a3ec73f",
   "metadata": {},
   "outputs": [],
   "source": [
    "ba = (xbasis,ybasis,zbasis)\n",
    "u = dist.VectorField(coords, name='u', bases=ba)\n",
    "A = dist.VectorField(coords, name='A', bases=ba)"
   ]
  },
  {
   "cell_type": "code",
   "execution_count": 13,
   "id": "03909bbb",
   "metadata": {},
   "outputs": [],
   "source": [
    "A.set_scales(dealias)\n",
    "A.fill_random('g', seed=42, distribution='normal')\n",
    "A.low_pass_filter(scales=(0.5, 0.5, 0.5))\n",
    "A['g'] *= Lz**2*(z+1)/Lz * (1 - (z+1)/Lz) # Damp noise at walls\n",
    "\n",
    "up = d3.curl(A).evaluate()\n",
    "#up.set_scales(1, keep_data=True)\n",
    "u.require_scales(dealias)\n",
    "u['g'] = ampl*up['g'] + U['g']"
   ]
  },
  {
   "cell_type": "code",
   "execution_count": 14,
   "id": "7d30d366",
   "metadata": {},
   "outputs": [],
   "source": [
    "u.require_scales(1)\n",
    "up.require_scales(1)"
   ]
  },
  {
   "cell_type": "code",
   "execution_count": 15,
   "id": "ee696728",
   "metadata": {},
   "outputs": [],
   "source": [
    "divup = d3.div(up).evaluate()\n",
    "divu = d3.div(u).evaluate()\n",
    "divU = d3.div(U).evaluate()"
   ]
  },
  {
   "cell_type": "code",
   "execution_count": 16,
   "id": "0601cf93",
   "metadata": {},
   "outputs": [
    {
     "name": "stdout",
     "output_type": "stream",
     "text": [
      "min, max divu = (-2.1644664579793128e-15, 2.1902519363913267e-15)\n",
      "min, max divup = (-1.9102523860983966e-12, 2.0576836785905942e-12)\n",
      "min, max divU = (0.0, 0.0)\n"
     ]
    }
   ],
   "source": [
    "print(\"min, max divu = ({}, {})\".format(divu['g'].min(), divu['g'].max()))\n",
    "print(\"min, max divup = ({}, {})\".format(divup['g'].min(), divup['g'].max()))\n",
    "print(\"min, max divU = ({}, {})\".format(divU['g'].min(), divU['g'].max()))"
   ]
  },
  {
   "cell_type": "code",
   "execution_count": 17,
   "id": "02321fe6",
   "metadata": {},
   "outputs": [
    {
     "data": {
      "text/plain": [
       "<matplotlib.image.AxesImage at 0x7fd870036460>"
      ]
     },
     "execution_count": 17,
     "metadata": {},
     "output_type": "execute_result"
    },
    {
     "data": {
      "image/png": "[encoded data removed]",
      "text/plain": [
       "<Figure size 432x288 with 1 Axes>"
      ]
     },
     "metadata": {
      "image/png": {
       "height": 249,
       "width": 251
      },
      "needs_background": "light"
     },
     "output_type": "display_data"
    }
   ],
   "source": [
    "plt.imshow(u['g'][0,:,10,:].T)"
   ]
  },
  {
   "cell_type": "code",
   "execution_count": 18,
   "id": "30580c6c",
   "metadata": {},
   "outputs": [
    {
     "data": {
      "text/plain": [
       "<matplotlib.image.AxesImage at 0x7fd86ff90eb0>"
      ]
     },
     "execution_count": 18,
     "metadata": {},
     "output_type": "execute_result"
    },
    {
     "data": {
      "image/png": "[encoded data removed]",
      "text/plain": [
       "<Figure size 432x288 with 1 Axes>"
      ]
     },
     "metadata": {
      "image/png": {
       "height": 249,
       "width": 251
      },
      "needs_background": "light"
     },
     "output_type": "display_data"
    }
   ],
   "source": [
    "plt.imshow(up['g'][0,:,10,:].T)"
   ]
  },
  {
   "cell_type": "code",
   "execution_count": null,
   "id": "9dca724f",
   "metadata": {},
   "outputs": [],
   "source": []
  }
 ],
 "metadata": {
  "kernelspec": {
   "display_name": "Python 3 (ipykernel)",
   "language": "python",
   "name": "python3"
  },
  "language_info": {
   "codemirror_mode": {
    "name": "ipython",
    "version": 3
   },
   "file_extension": ".py",
   "mimetype": "text/x-python",
   "name": "python",
   "nbconvert_exporter": "python",
   "pygments_lexer": "ipython3",
   "version": "3.8.10"
  }
 },
 "nbformat": 4,
 "nbformat_minor": 5
}
