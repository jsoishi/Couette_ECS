{
 "cells": [
  {
   "cell_type": "code",
   "execution_count": 1,
   "metadata": {},
   "outputs": [],
   "source": [
    "import dedalus.public as d3\n",
    "import matplotlib.pyplot as plt\n",
    "import numpy as np\n",
    "from pathlib import Path"
   ]
  },
  {
   "cell_type": "markdown",
   "metadata": {},
   "source": [
    "# How to write d3 data to disk for initial conditions\n",
    "\n",
    "First, create the coordinate system, bases, and distributor as you would in the script."
   ]
  },
  {
   "cell_type": "code",
   "execution_count": 2,
   "metadata": {},
   "outputs": [],
   "source": [
    "dtype = np.float64\n",
    "dealias = 3/2\n",
    "nx = 32\n",
    "ny = 32\n",
    "nz =32\n",
    "Lx = 5\n",
    "Ly = 5"
   ]
  },
  {
   "cell_type": "code",
   "execution_count": 3,
   "metadata": {},
   "outputs": [],
   "source": [
    "coords = d3.CartesianCoordinates('x', 'y', 'z')\n",
    "dist = d3.Distributor(coords, dtype=dtype)\n",
    "xbasis = d3.RealFourier(coords['x'], size=nx, bounds=(0, Lx), dealias = dealias)\n",
    "ybasis = d3.RealFourier(coords['y'], size=ny, bounds=(0, Ly), dealias = dealias)\n",
    "zbasis = d3.ChebyshevT(coords['z'], size=nz, bounds = (-1,1), dealias = dealias)\n",
    "x = xbasis.local_grid(1)\n",
    "y = xbasis.local_grid(1)\n",
    "z = zbasis.local_grid(1)"
   ]
  },
  {
   "cell_type": "markdown",
   "metadata": {},
   "source": [
    "Make sure to create *all* the fields you need to run."
   ]
  },
  {
   "cell_type": "code",
   "execution_count": 4,
   "metadata": {},
   "outputs": [],
   "source": [
    "ba = (xbasis,ybasis,zbasis)\n",
    "ba_p = (xbasis,ybasis)\n",
    "\n",
    "p = dist.Field(name='p', bases=ba)\n",
    "u = dist.VectorField(coords, name='u', bases=ba)\n",
    "tau_u1 = dist.VectorField(coords, name='tau_u1', bases=ba_p)\n",
    "tau_u2 = dist.VectorField(coords, name='tau_u2', bases=ba_p)\n",
    "tau_p = dist.Field(name='tau_p')\n"
   ]
  },
  {
   "cell_type": "code",
   "execution_count": 5,
   "metadata": {},
   "outputs": [
    {
     "data": {
      "text/plain": [
       "(3, 32, 32, 32)"
      ]
     },
     "execution_count": 5,
     "metadata": {},
     "output_type": "execute_result"
    }
   ],
   "source": [
    "u['g'].shape"
   ]
  },
  {
   "cell_type": "markdown",
   "metadata": {},
   "source": [
    "Add something to `u`; you can leave everything else as zeros."
   ]
  },
  {
   "cell_type": "markdown",
   "metadata": {},
   "source": [
    "Next, you'll create an `Evaluator` object with the distributor `dist` and the dictionary of fields. You won't need to modify any of this code below."
   ]
  },
  {
   "cell_type": "code",
   "execution_count": 6,
   "metadata": {},
   "outputs": [],
   "source": [
    "from dedalus.core.evaluator import Evaluator"
   ]
  },
  {
   "cell_type": "code",
   "execution_count": 7,
   "metadata": {},
   "outputs": [],
   "source": [
    "evaluator = Evaluator(dist,{'p':p, 'u':u})"
   ]
  },
  {
   "cell_type": "code",
   "execution_count": 9,
   "metadata": {},
   "outputs": [],
   "source": [
    "check = evaluator.add_file_handler(Path('checkpoints'), iter=10, max_writes=1, virtual_file=True)\n",
    "check.add_tasks([u,p,tau_u1, tau_u2, tau_p])\n"
   ]
  },
  {
   "cell_type": "markdown",
   "metadata": {},
   "source": [
    "Then you'll need to call `evaluator.evaluate_handlers([check])`, which should write a `checkpoints/checkpoints_s1` directory. You'll need the entire contents of that directory, but you will restart from the file `checkpoints/checkpoints_s1/checkpoints_s1.h5`"
   ]
  },
  {
   "cell_type": "code",
   "execution_count": 10,
   "metadata": {},
   "outputs": [],
   "source": [
    "evaluator.evaluate_handlers([check])"
   ]
  },
  {
   "cell_type": "code",
   "execution_count": null,
   "metadata": {},
   "outputs": [],
   "source": []
  }
 ],
 "metadata": {
  "kernelspec": {
   "display_name": "Python 3 (ipykernel)",
   "language": "python",
   "name": "python3"
  },
  "language_info": {
   "codemirror_mode": {
    "name": "ipython",
    "version": 3
   },
   "file_extension": ".py",
   "mimetype": "text/x-python",
   "name": "python",
   "nbconvert_exporter": "python",
   "pygments_lexer": "ipython3",
   "version": "3.9.10"
  }
 },
 "nbformat": 4,
 "nbformat_minor": 4
}
